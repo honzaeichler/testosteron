{
 "cells": [
  {
   "cell_type": "markdown",
   "id": "eb2a13b1-88cb-4786-a382-f4a13f7de58b",
   "metadata": {},
   "source": [
    "# Data Science Tools and Ecosystem"
   ]
  },
  {
   "cell_type": "markdown",
   "id": "5647d302-3396-457f-80ea-d78d92614ee9",
   "metadata": {},
   "source": [
    "In this notebook, Data Science Tools and Ecosystem are summarized.\n"
   ]
  },
  {
   "cell_type": "markdown",
   "id": "5968cf61-286f-44d8-b185-f45d424ac660",
   "metadata": {},
   "source": [
    "**Objectives:**\n",
    "- List popular languages for Data Science\n",
    "- List some of the commonly used libraries used by Data Scientists include\n",
    "- List data science tools\n",
    "- Show some exemples of arithmetic expressions in Python"
   ]
  },
  {
   "cell_type": "markdown",
   "id": "76107bde-6dac-4cb3-838a-3de68421b14b",
   "metadata": {},
   "source": [
    "Some of the popular languages that Data Scientists use are:\n",
    "1. Python\n",
    "2. R\n",
    "3. Scala"
   ]
  },
  {
   "cell_type": "markdown",
   "id": "ca2d0d11-8591-4e9f-ae69-b43ae190b4e2",
   "metadata": {},
   "source": [
    "Some of the commonly used libraries used by Data Scientists include:\n",
    "1. ggplot2\n",
    "2. lattice\n",
    "3. pandas\n"
   ]
  },
  {
   "cell_type": "markdown",
   "id": "e882d851-1e75-4cba-8c9c-94eae7882be4",
   "metadata": {},
   "source": [
    "| Data Science Tools |\n",
    "| --------- |\n",
    "| Watson Studio |\n",
    "| RStudio |\n",
    "| Apache Spark  |\n"
   ]
  },
  {
   "cell_type": "markdown",
   "id": "43217609-cde6-4141-b4fc-1959a8340fcf",
   "metadata": {},
   "source": [
    "### Below are a few examples of evaluating arithmetic expressions in Python.\n"
   ]
  },
  {
   "cell_type": "code",
   "execution_count": 2,
   "id": "0e355874-858b-422e-8107-d21b7c4a5d78",
   "metadata": {},
   "outputs": [
    {
     "data": {
      "text/plain": [
       "17"
      ]
     },
     "execution_count": 2,
     "metadata": {},
     "output_type": "execute_result"
    }
   ],
   "source": [
    "# This a simple arithmetic expression to mutiply then add integers\n",
    "(3*4)+5"
   ]
  },
  {
   "cell_type": "code",
   "execution_count": 1,
   "id": "33b1820f-39e4-42e5-88fb-1b396e3a4e0a",
   "metadata": {},
   "outputs": [
    {
     "data": {
      "text/plain": [
       "3.3333333333333335"
      ]
     },
     "execution_count": 1,
     "metadata": {},
     "output_type": "execute_result"
    }
   ],
   "source": [
    "# This will convert 200 minutes to hours by diving by 60\n",
    "200/60"
   ]
  },
  {
   "cell_type": "markdown",
   "id": "53f39f8f-6b36-49d3-93e3-46aba236881b",
   "metadata": {},
   "source": [
    "## Author\n",
    "Jan Eichler"
   ]
  },
  {
   "cell_type": "code",
   "execution_count": null,
   "id": "32d83120-8b46-49e8-ac8f-fccf7e3017d2",
   "metadata": {},
   "outputs": [],
   "source": []
  }
 ],
 "metadata": {
  "kernelspec": {
   "display_name": "Python 3 (ipykernel)",
   "language": "python",
   "name": "python3"
  },
  "language_info": {
   "codemirror_mode": {
    "name": "ipython",
    "version": 3
   },
   "file_extension": ".py",
   "mimetype": "text/x-python",
   "name": "python",
   "nbconvert_exporter": "python",
   "pygments_lexer": "ipython3",
   "version": "3.12.3"
  }
 },
 "nbformat": 4,
 "nbformat_minor": 5
}
